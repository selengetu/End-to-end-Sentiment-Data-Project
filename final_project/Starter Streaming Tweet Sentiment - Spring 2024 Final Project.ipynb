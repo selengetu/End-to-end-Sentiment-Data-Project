{
 "cells": [
  {
   "cell_type": "markdown",
   "metadata": {
    "application/vnd.databricks.v1+cell": {
     "cellMetadata": {
      "byteLimit": 2048000,
      "rowLimit": 10000
     },
     "inputWidgets": {},
     "nuid": "fc749083-2211-485c-943f-640e198b2c70",
     "showTitle": false,
     "title": ""
    }
   },
   "source": [
    "## DSCC202-402 Data Science at Scale Final Project\n",
    "### Tracking Tweet sentiment at scale using a pretrained transformer (classifier)\n",
    "<p>Consider the following illustration of the end to end system that you will be building.  Each student should do their own work.  The project will demonstrate your understanding of Spark Streaming, the medalion data architecture using Delta Lake, Spark Inference at Scale using an MLflow packaged model as well as Exploritory Data Analysis and System Tracking and Monitoring.</p>\n",
    "<br><br>\n",
    "<img src=\"https://data-science-at-scale.s3.amazonaws.com/images/pipeline.drawio.png\">\n",
    "\n",
    "<p>\n",
    "You will be pulling an updated copy of the course GitHub repositiory: <a href=\"https://github.com/lpalum/dscc202-402-spring2024\">The Repo</a>.  If you are unclear on how to pull an updated copy using the GitHub command line, the following <a href=\"https://techwritingmatters.com/how-to-update-your-forked-repository-on-github\">document</a> is helpful.  Be sure to add the professors and TAs as collaborators on your project. \n",
    "\n",
    "- lpalum@gmail.com GitHub ID: lpalum\n",
    "- ajay.anand@rochester.edu GitHub ID: ajayan12\n",
    "- divyamunot1999@gmail.com GitHub ID: divyamunot\n",
    "- ylong6@u.Rochester.edu GitHub ID: NinaLong2077\n",
    "\n",
    "Once you have updates your fork of the repository you should see the following template project that is resident in the final_project directory.\n",
    "</p>\n",
    "\n",
    "<img src=\"https://data-science-at-scale.s3.amazonaws.com/images/notebooks.drawio.png\">\n",
    "\n",
    "<p>\n",
    "You can then pull your project into the Databrick Workspace using the <a href=\"https://www.databricks.training/step-by-step/importing-courseware-from-github/index.html\">Repos</a> feature.\n",
    "Each student is expected to submit the URL of their project on GitHub with their code checked in on the main/master branch.  This illustration highlights the branching scheme that you may use to work on your code in steps and then merge your submission into your master branch before submitting.\n",
    "</p>\n",
    "<img src=\"https://data-science-at-scale.s3.amazonaws.com/images/github.drawio.png\">\n",
    "<p>\n",
    "Work your way through this notebook which will give you the steps required to submit a complete and compliant project.  The following illustration and associated data dictionary specifies the transformations and data that you are to generate for each step in the medallion pipeline.\n",
    "</p>\n",
    "<br><br>\n",
    "<img src=\"https://data-science-at-scale.s3.amazonaws.com/images/dataframes.drawio.png\">\n",
    "\n",
    "#### Bronze Data - raw ingest\n",
    "- date - string in the source json\n",
    "- user - string in the source json\n",
    "- text - tweet string in the source json\n",
    "- sentiment - the given sentiment of the text as determined by an unknown model that is provided in the source json\n",
    "- source_file - the path of the source json file the this row of data was read from\n",
    "- processing_time - a timestamp of when you read this row from the source json\n",
    "\n",
    "#### Silver Data - Bronze Preprocessing\n",
    "- timestamp - convert date string in the bronze data to a timestamp\n",
    "- mention - every @username mentioned in the text string in the bronze data gets a row in this silver data table.\n",
    "- cleaned_text - the bronze text data with the mentions (@username) removed.\n",
    "- sentiment - the given sentiment that was associated with the text in the bronze table.\n",
    "\n",
    "#### Gold Data - Silver Table Inference\n",
    "- timestamp - the timestamp from the silver data table rows\n",
    "- mention - the mention from the silver data table rows\n",
    "- cleaned_text - the cleaned_text from the silver data table rows\n",
    "- sentiment - the given sentiment from the silver data table rows\n",
    "- predicted_score - score out of 100 from the Hugging Face Sentiment Transformer\n",
    "- predicted_sentiment - string representation of the sentiment\n",
    "- sentiment_id - 0 for negative and 1 for postive associated with the given sentiment\n",
    "- predicted_sentiment_id - 0 for negative and 1 for positive assocaited with the Hugging Face Sentiment Transformer\n",
    "\n",
    "#### Application Data - Gold Table Aggregation\n",
    "- min_timestamp - the oldest timestamp on a given mention (@username)\n",
    "- max_timestamp - the newest timestamp on a given mention (@username)\n",
    "- mention - the user (@username) that this row pertains to.\n",
    "- negative - total negative tweets directed at this mention (@username)\n",
    "- neutral - total neutral tweets directed at this mention (@username)\n",
    "- positive - total positive tweets directed at this mention (@username)\n",
    "\n",
    "When you are designing your approach, one of the main decisions that you will need to make is how you are going to orchestrate the streaming data processing in your pipeline.  There are several valid approaches.  First, you may choose to start the bronze_stream and let it complete (read and append all of the source data) before preceeding and starting up the silver_stream.  This approach has latency associated with it but it will allow your code to proceed in a linear fashion and process all the data by the end of your notebook execution.  Another potential approach is to start all the streams and have a \"watch\" method to determine when the pipeline has processed sufficient or all of the source data before stopping and displaying results.  Both of these approaches are valid and have different implications on how you will trigger your steams and how you will gate the execution of your pipeline.  Think through how you want to proceed and ask questions if you need guidance. The following references may be helpful:\n",
    "- [Spark Structured Streaming Programming Guide](https://spark.apache.org/docs/latest/structured-streaming-programming-guide.html)\n",
    "- [Databricks Autoloader - Cloudfiles](https://docs.databricks.com/en/ingestion/auto-loader/index.html)\n",
    "\n",
    "### Be sure that your project runs end to end when *Run all* is executued on this notebook! (15 Points out of 60)"
   ]
  },
  {
   "cell_type": "code",
   "execution_count": 0,
   "metadata": {
    "application/vnd.databricks.v1+cell": {
     "cellMetadata": {
      "byteLimit": 2048000,
      "rowLimit": 10000
     },
     "inputWidgets": {},
     "nuid": "068f25d0-1387-4342-89cf-ce82a8d614ce",
     "showTitle": true,
     "title": "Pull in the Includes & Utiltites"
    }
   },
   "outputs": [],
   "source": [
    "%run ./includes/includes"
   ]
  },
  {
   "cell_type": "code",
   "execution_count": 0,
   "metadata": {
    "application/vnd.databricks.v1+cell": {
     "cellMetadata": {
      "byteLimit": 2048000,
      "rowLimit": 10000
     },
     "inputWidgets": {},
     "nuid": "6512bf1b-50e0-4a4b-84a9-e280a6260b56",
     "showTitle": true,
     "title": "Notebook Control Widgets (maybe helpful)"
    }
   },
   "outputs": [],
   "source": [
    "\"\"\"\n",
    "Adding a widget to the notebook to control the clearing of a previous run.\n",
    "or stopping the active streams using routines defined in the utilities notebook\n",
    "\"\"\"\n",
    "dbutils.widgets.removeAll()\n",
    "\n",
    "dbutils.widgets.dropdown(\"clear_previous_run\", \"No\", [\"No\",\"Yes\"])\n",
    "if (getArgument(\"clear_previous_run\") == \"Yes\"):\n",
    "    clear_previous_run()\n",
    "    print(\"Cleared all previous data.\")\n",
    "\n",
    "dbutils.widgets.dropdown(\"stop_streams\", \"No\", [\"No\",\"Yes\"])\n",
    "if (getArgument(\"stop_streams\") == \"Yes\"):\n",
    "    stop_all_streams()\n",
    "    print(\"Stopped all active streams.\")\n",
    "\n",
    "from delta import *\n",
    "dbutils.widgets.dropdown(\"optimize_tables\", \"No\", [\"No\",\"Yes\"])\n",
    "if (getArgument(\"optimize_tables\") == \"Yes\"):\n",
    "    # Suck up those small files that we have been appending.\n",
    "    DeltaTable.forPath(spark, BRONZE_DELTA).optimize().executeCompaction()\n",
    "    # Suck up those small files that we have been appending.\n",
    "    DeltaTable.forPath(spark, SILVER_DELTA).optimize().executeCompaction()\n",
    "    # Suck up those small files that we have been appending.\n",
    "    DeltaTable.forPath(spark, GOLD_DELTA).optimize().executeCompaction()\n",
    "    print(\"Optimized all of the Delta Tables\")"
   ]
  },
  {
   "cell_type": "markdown",
   "metadata": {
    "application/vnd.databricks.v1+cell": {
     "cellMetadata": {
      "byteLimit": 2048000,
      "rowLimit": 10000
     },
     "inputWidgets": {},
     "nuid": "e8ce7c13-7f8f-4e11-b50c-fdaebbcf3f99",
     "showTitle": false,
     "title": ""
    }
   },
   "source": [
    "## 1.0 Import your libraries here...\n",
    "- Are your shuffle partitions consistent with your cluster and your workload?\n",
    "- Do you have the necessary libraries to perform the required operations in the pipeline/application?"
   ]
  },
  {
   "cell_type": "code",
   "execution_count": 0,
   "metadata": {
    "application/vnd.databricks.v1+cell": {
     "cellMetadata": {
      "byteLimit": 2048000,
      "rowLimit": 10000
     },
     "inputWidgets": {},
     "nuid": "67bafbb7-d34e-4e86-b159-b2e062faa1d0",
     "showTitle": false,
     "title": ""
    }
   },
   "outputs": [],
   "source": [
    "# Basic imports for Spark\n",
    "from pyspark.sql import SparkSession\n",
    "from pyspark.sql.functions import *\n",
    "from pyspark.sql.types import *\n",
    "from pyspark.ml.evaluation import MulticlassClassificationEvaluator\n",
    "\n",
    "# Imports for Delta Lake\n",
    "from delta.tables import *\n",
    "import delta\n",
    "\n",
    "# MLflow for managing the machine learning model\n",
    "import mlflow\n",
    "import mlflow.pyfunc\n",
    "from mlflow.tracking import MlflowClient\n",
    "\n",
    "# Hugging Face Transformers for sentiment analysis\n",
    "from transformers import AutoModelForSequenceClassification, AutoTokenizer\n",
    "\n",
    "# Import for data visualization (optional, for EDA)\n",
    "import matplotlib.pyplot as plt\n",
    "import seaborn as sns\n",
    "\n",
    "# Import for handling dates and times\n",
    "from datetime import datetime\n",
    "\n",
    "# Utilities\n",
    "import os\n",
    "import torch\n"
   ]
  },
  {
   "cell_type": "markdown",
   "metadata": {
    "application/vnd.databricks.v1+cell": {
     "cellMetadata": {
      "byteLimit": 2048000,
      "rowLimit": 10000
     },
     "inputWidgets": {},
     "nuid": "a4ffe78f-96b1-4bb1-857e-59e151a9bc7f",
     "showTitle": false,
     "title": ""
    }
   },
   "source": [
    "Setting partitions"
   ]
  },
  {
   "cell_type": "code",
   "execution_count": 0,
   "metadata": {
    "application/vnd.databricks.v1+cell": {
     "cellMetadata": {
      "byteLimit": 2048000,
      "rowLimit": 10000
     },
     "inputWidgets": {},
     "nuid": "4796fca6-7b5c-44e6-897d-04249f42b64a",
     "showTitle": false,
     "title": ""
    }
   },
   "outputs": [],
   "source": [
    "# Initialize or get the existing Spark session\n",
    "spark = SparkSession.builder \\\n",
    "    .appName(\"Tweet Sentiment Analysis\") \\\n",
    "    .config(\"spark.sql.shuffle.partitions\", 8) \\\n",
    "    .getOrCreate()\n",
    "\n",
    "# Check and set the shuffle partitions\n",
    "print(\"Initial shuffle partitions:\", spark.conf.get(\"spark.sql.shuffle.partitions\"))\n",
    "spark.conf.set(\"spark.sql.shuffle.partitions\", 8)\n",
    "print(\"Updated shuffle partitions:\", spark.conf.get(\"spark.sql.shuffle.partitions\"))\n",
    "\n",
    "# Verify imports\n",
    "print(\"Libraries imported successfully.\")"
   ]
  },
  {
   "cell_type": "markdown",
   "metadata": {
    "application/vnd.databricks.v1+cell": {
     "cellMetadata": {
      "byteLimit": 2048000,
      "rowLimit": 10000
     },
     "inputWidgets": {},
     "nuid": "2b7624b4-0aa5-46b7-9767-52f462b2c574",
     "showTitle": false,
     "title": ""
    }
   },
   "source": [
    "## 2.0 Use the utility functions to ...\n",
    "- Read the source file directory listing\n",
    "- Count the source files (how many are there?)\n",
    "- print the contents of one of the files"
   ]
  },
  {
   "cell_type": "code",
   "execution_count": 0,
   "metadata": {
    "application/vnd.databricks.v1+cell": {
     "cellMetadata": {
      "byteLimit": 2048000,
      "rowLimit": 10000
     },
     "inputWidgets": {},
     "nuid": "a59749d5-e45d-460f-9be1-33652cda2ea5",
     "showTitle": false,
     "title": ""
    }
   },
   "outputs": [],
   "source": [
    "# Start a Spark Session\n",
    "spark = SparkSession.builder \\\n",
    "    .appName(\"Read S3 Data\") \\\n",
    "    .getOrCreate()\n",
    "\n",
    "# Define the path to your S3 bucket\n",
    "s3_path = \"s3a://voc-75-databricks-data/voc_volume/\"\n",
    "\n",
    "# Read the list of files in the directory using binaryFile format\n",
    "file_list_df = spark.read.format(\"binaryFile\").load(s3_path)"
   ]
  },
  {
   "cell_type": "code",
   "execution_count": 0,
   "metadata": {
    "application/vnd.databricks.v1+cell": {
     "cellMetadata": {
      "byteLimit": 2048000,
      "rowLimit": 10000
     },
     "inputWidgets": {},
     "nuid": "bb083c43-0244-43d1-a5c3-db1473493a1c",
     "showTitle": false,
     "title": ""
    }
   },
   "outputs": [],
   "source": [
    "# List the files in the source directory\n",
    "file_list = dbutils.fs.ls(TWEET_SOURCE_PATH)\n",
    "file_list"
   ]
  },
  {
   "cell_type": "code",
   "execution_count": 0,
   "metadata": {
    "application/vnd.databricks.v1+cell": {
     "cellMetadata": {
      "byteLimit": 2048000,
      "rowLimit": 10000
     },
     "inputWidgets": {},
     "nuid": "8d0644bf-f541-4310-a08f-3992bd5651b2",
     "showTitle": false,
     "title": ""
    }
   },
   "outputs": [],
   "source": [
    "# Count the number of files\n",
    "number_of_files = len(file_list)\n",
    "print(f\"Number of files in the source directory: {number_of_files}\")\n",
    "\n",
    "# Read and print the contents of the first file, if it exists\n",
    "if number_of_files > 0:\n",
    "    # Take the path of the first file\n",
    "    first_file_path = file_list[0].path\n",
    "    # Assuming the files are in text format and small enough to be collected\n",
    "    file_contents = spark.read.text(first_file_path).collect()\n",
    "    \n",
    "    # Print the contents \n",
    "    for line in file_contents:\n",
    "        print(line.value)"
   ]
  },
  {
   "cell_type": "code",
   "execution_count": 0,
   "metadata": {
    "application/vnd.databricks.v1+cell": {
     "cellMetadata": {
      "byteLimit": 2048000,
      "rowLimit": 10000
     },
     "inputWidgets": {},
     "nuid": "c51b640c-2f91-43eb-bd23-3eff16ad230e",
     "showTitle": false,
     "title": ""
    }
   },
   "outputs": [],
   "source": [
    "# Get the path of the first file\n",
    "first_file_path = file_list_df.select(\"path\").first()[0]\n",
    "print(\"Path of the first file:\", first_file_path)\n",
    "\n",
    "# Read and print the contents of the first file\n",
    "first_file_df = spark.read.json(first_file_path)\n",
    "print(\"Contents of the first file:\")\n",
    "first_file_df.show(truncate=False)"
   ]
  },
  {
   "cell_type": "markdown",
   "metadata": {
    "application/vnd.databricks.v1+cell": {
     "cellMetadata": {
      "byteLimit": 2048000,
      "rowLimit": 10000
     },
     "inputWidgets": {},
     "nuid": "1676aed7-527f-4ea7-9d3b-52544e8c1e37",
     "showTitle": false,
     "title": ""
    }
   },
   "source": [
    "## 3.0 Transform the Raw Data to Bronze Data using a stream\n",
    "- define the schema for the raw data\n",
    "- setup a read stream using cloudfiles and the source data format\n",
    "- setup a write stream using cloudfiles to append to the bronze delta table\n",
    "- enforce schema\n",
    "- allow a new schema to be merged into the bronze delta table\n",
    "- Use the defined BRONZE_CHECKPOINT and BRONZE_DELTA paths defines in the includes\n",
    "- name your raw to bronze stream as bronze_stream\n",
    "- transform the raw data to the bronze data using the data definition at the top of the notebook"
   ]
  },
  {
   "cell_type": "code",
   "execution_count": 0,
   "metadata": {
    "application/vnd.databricks.v1+cell": {
     "cellMetadata": {
      "byteLimit": 2048000,
      "rowLimit": 10000
     },
     "inputWidgets": {},
     "nuid": "c4e37574-9885-4908-bf97-609d140a8818",
     "showTitle": false,
     "title": ""
    }
   },
   "outputs": [],
   "source": [
    "# Define the schema based on the provided data dictionary\n",
    "schema = StructType([\n",
    "    StructField(\"date\", StringType(), True),\n",
    "    StructField(\"user\", StringType(), True),\n",
    "    StructField(\"text\", StringType(), True),\n",
    "    StructField(\"sentiment\", StringType(), True),\n",
    "    StructField(\"source_file\", StringType(), True)\n",
    "])"
   ]
  },
  {
   "cell_type": "code",
   "execution_count": 0,
   "metadata": {
    "application/vnd.databricks.v1+cell": {
     "cellMetadata": {
      "byteLimit": 2048000,
      "rowLimit": 10000
     },
     "inputWidgets": {},
     "nuid": "5a2ac6f2-2fb2-4061-a64c-4fb8578b43e1",
     "showTitle": false,
     "title": ""
    }
   },
   "outputs": [],
   "source": [
    "# Paths from the environment variables\n",
    "TWEET_SOURCE_PATH = \"s3a://voc-75-databricks-data/voc_volume/\"\n",
    "BRONZE_CHECKPOINT = \"/tmp/labuser104917-3013268/bronze.checkpoint\"\n",
    "BRONZE_DELTA = \"/tmp/labuser104917-3013268/bronze.delta\"\n",
    "SILVER_CHECKPOINT = \"/tmp/labuser104917-3013268/silver.checkpoint\"\n",
    "SILVER_DELTA = \"/tmp/labuser104917-3013268/silver.delta\"\n",
    "GOLD_CHECKPOINT = \"/tmp/labuser104917-3013268/gold.checkpoint\"\n",
    "GOLD_DELTA = \"/tmp/labuser104917-3013268/gold.delta\""
   ]
  },
  {
   "cell_type": "code",
   "execution_count": 0,
   "metadata": {
    "application/vnd.databricks.v1+cell": {
     "cellMetadata": {
      "byteLimit": 2048000,
      "rowLimit": 10000
     },
     "inputWidgets": {},
     "nuid": "02a15cc0-2cab-4ccb-be5b-0bb99935324a",
     "showTitle": false,
     "title": ""
    }
   },
   "outputs": [],
   "source": [
    "# Setup the read stream\n",
    "raw_stream = spark.readStream \\\n",
    "    .format(\"cloudFiles\") \\\n",
    "    .option(\"cloudFiles.format\", \"json\") \\\n",
    "    .schema(schema) \\\n",
    "    .load(TWEET_SOURCE_PATH)"
   ]
  },
  {
   "cell_type": "code",
   "execution_count": 0,
   "metadata": {
    "application/vnd.databricks.v1+cell": {
     "cellMetadata": {
      "byteLimit": 2048000,
      "rowLimit": 10000
     },
     "inputWidgets": {},
     "nuid": "21a471cd-15e6-45e9-a7b9-11fe37a7b636",
     "showTitle": false,
     "title": ""
    }
   },
   "outputs": [],
   "source": [
    "# Transform the raw data to bronze format\n",
    "bronze_data = raw_stream.select(\n",
    "    col(\"date\").alias(\"date\"),\n",
    "    col(\"user\").alias(\"user\"),\n",
    "    col(\"text\").alias(\"text\"),\n",
    "    col(\"sentiment\").alias(\"sentiment\"),\n",
    "    input_file_name().alias(\"source_file\"),\n",
    "    current_timestamp().alias(\"processing_time\")\n",
    ")"
   ]
  },
  {
   "cell_type": "code",
   "execution_count": 0,
   "metadata": {
    "application/vnd.databricks.v1+cell": {
     "cellMetadata": {
      "byteLimit": 2048000,
      "rowLimit": 10000
     },
     "inputWidgets": {},
     "nuid": "a6caa849-203c-4e13-b2bb-4849778a42eb",
     "showTitle": false,
     "title": ""
    }
   },
   "outputs": [],
   "source": [
    "# Setup the write stream\n",
    "bronze_stream = bronze_data.writeStream \\\n",
    "    .format(\"delta\") \\\n",
    "    .option(\"checkpointLocation\", BRONZE_CHECKPOINT) \\\n",
    "    .option(\"path\", BRONZE_DELTA) \\\n",
    "    .outputMode(\"append\") \\\n",
    "    .queryName(\"bronze_stream\") \\\n",
    "    .start()"
   ]
  },
  {
   "cell_type": "code",
   "execution_count": 0,
   "metadata": {
    "application/vnd.databricks.v1+cell": {
     "cellMetadata": {
      "byteLimit": 2048000,
      "rowLimit": 10000
     },
     "inputWidgets": {},
     "nuid": "2cea3a38-c4ea-4b32-b4d0-ab69cb79918a",
     "showTitle": false,
     "title": ""
    }
   },
   "outputs": [],
   "source": [
    "def print_table_head(path_name, path, n=5):\n",
    "    try:\n",
    "        df = spark.read.format(\"delta\").load(path)\n",
    "        count = df.count()\n",
    "        if count == 0:\n",
    "            print(f\"{path_name} is empty.\")\n",
    "        else:\n",
    "            print(f\"{path_name} is not empty. Row count: {count}\")\n",
    "            df.show(n, truncate=False)\n",
    "    except Exception as e:\n",
    "        print(f\"Error reading Delta table {path_name} at {path}: {e}\")\n",
    "\n",
    "# Print the head of the Bronze Delta table\n",
    "print_table_head(\"Bronze Delta\", BRONZE_DELTA, n=5)"
   ]
  },
  {
   "cell_type": "markdown",
   "metadata": {
    "application/vnd.databricks.v1+cell": {
     "cellMetadata": {
      "byteLimit": 2048000,
      "rowLimit": 10000
     },
     "inputWidgets": {},
     "nuid": "9bc3e824-d218-43e5-a43b-4c6dbe31950d",
     "showTitle": false,
     "title": ""
    }
   },
   "source": [
    "## 4.0 Bronze Data Exploratory Data Analysis\n",
    "- How many tweets are captured in your Bronze Table?\n",
    "- Are there any columns that contain Nan or Null values?  If so how many and what will you do in your silver transforms to address this?\n",
    "- Count the number of tweets by each unique user handle and sort the data by descending count.\n",
    "- How many tweets have at least one mention (@) how many tweet have no mentions (@)\n",
    "- Plot a bar chart that shows the top 20 tweeters (users)\n"
   ]
  },
  {
   "cell_type": "code",
   "execution_count": 0,
   "metadata": {
    "application/vnd.databricks.v1+cell": {
     "cellMetadata": {
      "byteLimit": 2048000,
      "rowLimit": 10000
     },
     "inputWidgets": {},
     "nuid": "81c15ad6-baa9-4241-95b3-ca8af09cec20",
     "showTitle": false,
     "title": ""
    }
   },
   "outputs": [],
   "source": [
    "# Path variables\n",
    "BRONZE_DELTA = \"/tmp/labuser104917-3013268/bronze.delta\"\n",
    "\n",
    "# Read the Bronze table\n",
    "bronze_df = spark.read.format(\"delta\").load(BRONZE_DELTA)\n",
    "\n",
    "# 1. How many tweets are captured in the Bronze Table?\n",
    "total_tweets = bronze_df.count()\n",
    "print(f\"Total number of tweets captured in the Bronze Table: {total_tweets}\")"
   ]
  },
  {
   "cell_type": "code",
   "execution_count": 0,
   "metadata": {
    "application/vnd.databricks.v1+cell": {
     "cellMetadata": {
      "byteLimit": 2048000,
      "rowLimit": 10000
     },
     "inputWidgets": {},
     "nuid": "1e6d7276-f4b0-42b0-ad5a-55b32db2f688",
     "showTitle": false,
     "title": ""
    }
   },
   "outputs": [],
   "source": [
    "# 2. Check for columns containing NaN or Null values\n",
    "nan_null_stats = bronze_df.select([count(when(col(c).isNull(), c)).alias(c) for c in bronze_df.columns])\n",
    "print(\"NaN/Null values in each column:\")\n",
    "nan_null_stats.show()"
   ]
  },
  {
   "cell_type": "code",
   "execution_count": 0,
   "metadata": {
    "application/vnd.databricks.v1+cell": {
     "cellMetadata": {
      "byteLimit": 2048000,
      "rowLimit": 10000
     },
     "inputWidgets": {},
     "nuid": "d19c554b-4aea-463b-8c22-9cb9db8df5c7",
     "showTitle": false,
     "title": ""
    }
   },
   "outputs": [],
   "source": [
    "# 3. Count tweets by each unique user handle and sort by descending count\n",
    "user_tweet_counts = bronze_df.groupBy(\"user\").count().orderBy(desc(\"count\"))\n",
    "top_tweeters = user_tweet_counts.limit(20)\n",
    "top_tweeters_pd = top_tweeters.toPandas()\n",
    "\n",
    "print(\"Top 20 Tweeters (Users) by Tweet Count:\")\n",
    "print(top_tweeters_pd)"
   ]
  },
  {
   "cell_type": "code",
   "execution_count": 0,
   "metadata": {
    "application/vnd.databricks.v1+cell": {
     "cellMetadata": {
      "byteLimit": 2048000,
      "rowLimit": 10000
     },
     "inputWidgets": {},
     "nuid": "545505da-b273-4ee7-85c7-f9993a156fe3",
     "showTitle": false,
     "title": ""
    }
   },
   "outputs": [],
   "source": [
    "# 4. How many tweets have at least one mention (@)? How many tweets have no mentions (@)?\n",
    "tweets_with_mention = bronze_df.filter(expr(\"text LIKE '%@%'\")).count()\n",
    "tweets_without_mention = total_tweets - tweets_with_mention\n",
    "\n",
    "print(f\"Number of tweets with at least one mention: {tweets_with_mention}\")\n",
    "print(f\"Number of tweets with no mentions: {tweets_without_mention}\")"
   ]
  },
  {
   "cell_type": "code",
   "execution_count": 0,
   "metadata": {
    "application/vnd.databricks.v1+cell": {
     "cellMetadata": {
      "byteLimit": 2048000,
      "rowLimit": 10000
     },
     "inputWidgets": {},
     "nuid": "d0e3ebe7-f35f-460b-a9bb-3d1c5b12c71c",
     "showTitle": false,
     "title": ""
    }
   },
   "outputs": [],
   "source": [
    "# 5. Plot a bar chart showing the top 20 tweeters (users)\n",
    "plt.figure(figsize=(12, 8))\n",
    "plt.bar(top_tweeters_pd['user'], top_tweeters_pd['count'], color='blue')\n",
    "plt.xlabel('User Handles')\n",
    "plt.ylabel('Number of Tweets')\n",
    "plt.title('Top 20 Tweeters')\n",
    "plt.xticks(rotation=45)\n",
    "plt.tight_layout()  # Adjust layout to not cut off labels\n",
    "plt.show()"
   ]
  },
  {
   "cell_type": "markdown",
   "metadata": {
    "application/vnd.databricks.v1+cell": {
     "cellMetadata": {
      "byteLimit": 2048000,
      "rowLimit": 10000
     },
     "inputWidgets": {},
     "nuid": "38c290b9-a42a-4551-857b-3f461b8a1be6",
     "showTitle": false,
     "title": ""
    }
   },
   "source": [
    "## 5.0 Transform the Bronze Data to Silver Data using a stream\n",
    "- setup a read stream on your bronze delta table\n",
    "- setup a write stream to append to the silver delta table\n",
    "- Use the defined SILVER_CHECKPOINT and SILVER_DELTA paths in the includes\n",
    "- name your bronze to silver stream as silver_stream\n",
    "- transform the bronze data to the silver data using the data definition at the top of the notebook"
   ]
  },
  {
   "cell_type": "code",
   "execution_count": 0,
   "metadata": {
    "application/vnd.databricks.v1+cell": {
     "cellMetadata": {
      "byteLimit": 2048000,
      "rowLimit": 10000
     },
     "inputWidgets": {},
     "nuid": "9c807d92-8cda-4855-873d-1f3167ad9a94",
     "showTitle": false,
     "title": ""
    }
   },
   "outputs": [],
   "source": [
    "# Initialize a Spark session\n",
    "spark = SparkSession.builder \\\n",
    "    .appName(\"Silver Data Preprocessing\") \\\n",
    "    .getOrCreate()\n",
    "\n",
    "# Set legacy time parser policy\n",
    "spark.conf.set(\"spark.sql.legacy.timeParserPolicy\", \"LEGACY\")"
   ]
  },
  {
   "cell_type": "code",
   "execution_count": 0,
   "metadata": {
    "application/vnd.databricks.v1+cell": {
     "cellMetadata": {
      "byteLimit": 2048000,
      "rowLimit": 10000
     },
     "inputWidgets": {},
     "nuid": "54cf08d4-6195-4932-8255-68848bdab435",
     "showTitle": false,
     "title": ""
    }
   },
   "outputs": [],
   "source": [
    "# Load the Bronze Delta table as a streaming DataFrame\n",
    "bronze_stream_df = spark.readStream.format(\"delta\").load(BRONZE_DELTA)\n",
    "\n",
    "# Function to clean mentions from Bronze data\n",
    "def clean_bronze(df: DataFrame) -> DataFrame:\n",
    "    \"\"\"\n",
    "    Cleans the text column in the Bronze DataFrame by removing mentions (@username).\n",
    "    \n",
    "    Args:\n",
    "        df (DataFrame): The input DataFrame representing the Bronze layer.\n",
    "\n",
    "    Returns:\n",
    "        DataFrame: A DataFrame with a cleaned `cleaned_text` column.\n",
    "    \"\"\"\n",
    "    mention_pattern = r'@\\w+'\n",
    "    return df.withColumn(\"cleaned_text\", regexp_replace(col(\"text\"), mention_pattern, \"\"))\n",
    "\n",
    "# Apply cleaning function\n",
    "bronze_clean_df = clean_bronze(bronze_stream_df)"
   ]
  },
  {
   "cell_type": "code",
   "execution_count": 0,
   "metadata": {
    "application/vnd.databricks.v1+cell": {
     "cellMetadata": {
      "byteLimit": 2048000,
      "rowLimit": 10000
     },
     "inputWidgets": {},
     "nuid": "63d8d3f1-594d-4aa8-891d-ae5384f47ab5",
     "showTitle": false,
     "title": ""
    }
   },
   "outputs": [],
   "source": [
    "# Transform the Bronze data to Silver format\n",
    "silver_df = bronze_clean_df.select(\n",
    "    col('date').alias('timestamp'),\n",
    "    col('text').contains('@').cast('integer').alias('mention'),\n",
    "    col('cleaned_text'),\n",
    "    col('sentiment')\n",
    ")\n"
   ]
  },
  {
   "cell_type": "code",
   "execution_count": 0,
   "metadata": {
    "application/vnd.databricks.v1+cell": {
     "cellMetadata": {
      "byteLimit": 2048000,
      "rowLimit": 10000
     },
     "inputWidgets": {},
     "nuid": "613e0dc8-be04-4004-a4af-751439b7d23e",
     "showTitle": false,
     "title": ""
    }
   },
   "outputs": [],
   "source": [
    "# Write Silver data to the Delta table as a streaming DataFrame\n",
    "silver_stream = silver_df.writeStream \\\n",
    "    .format(\"delta\") \\\n",
    "    .option(\"checkpointLocation\", SILVER_CHECKPOINT) \\\n",
    "    .option(\"path\", SILVER_DELTA) \\\n",
    "    .outputMode(\"append\") \\\n",
    "    .queryName(\"silver_stream\") \\\n",
    "    .start()\n"
   ]
  },
  {
   "cell_type": "code",
   "execution_count": 0,
   "metadata": {
    "application/vnd.databricks.v1+cell": {
     "cellMetadata": {
      "byteLimit": 2048000,
      "rowLimit": 10000
     },
     "inputWidgets": {},
     "nuid": "8273ca2c-1a6b-4033-9d5e-8dfb5a02b4f0",
     "showTitle": false,
     "title": ""
    }
   },
   "outputs": [],
   "source": [
    "# Verify the Silver Delta table\n",
    "silver_df = spark.read.format(\"delta\").load(SILVER_DELTA)\n",
    "row_count = silver_df.count()\n",
    "print(f\"Silver Delta Row count: {row_count}\")\n",
    "silver_df.show(5, truncate=False)"
   ]
  },
  {
   "cell_type": "markdown",
   "metadata": {
    "application/vnd.databricks.v1+cell": {
     "cellMetadata": {
      "byteLimit": 2048000,
      "rowLimit": 10000
     },
     "inputWidgets": {},
     "nuid": "9ee38aba-e340-4766-8339-71ef2ecfde3a",
     "showTitle": false,
     "title": ""
    }
   },
   "source": [
    "## 6.0 Transform the Silver Data to Gold Data using a stream\n",
    "- setup a read stream on your silver delta table\n",
    "- setup a write stream to append to the gold delta table\n",
    "- Use the defined GOLD_CHECKPOINT and GOLD_DELTA paths defines in the includes\n",
    "- name your silver to gold stream as gold_stream\n",
    "- transform the silver data to the gold data using the data definition at the top of the notebook\n",
    "- Load the pretrained transformer sentiment classifier from the MODEL_NAME at the production level from the MLflow registry\n",
    "- Use a spark UDF to parallelize the inference across your silver data"
   ]
  },
  {
   "cell_type": "code",
   "execution_count": 0,
   "metadata": {
    "application/vnd.databricks.v1+cell": {
     "cellMetadata": {
      "byteLimit": 2048000,
      "implicitDf": true,
      "rowLimit": 10000
     },
     "inputWidgets": {},
     "nuid": "69e3052c-40b5-4599-9b9c-ad530ae19488",
     "showTitle": false,
     "title": ""
    }
   },
   "outputs": [],
   "source": [
    "%sql\n",
    "OPTIMIZE bronze_delta"
   ]
  },
  {
   "cell_type": "code",
   "execution_count": 0,
   "metadata": {
    "application/vnd.databricks.v1+cell": {
     "cellMetadata": {
      "byteLimit": 2048000,
      "rowLimit": 10000
     },
     "inputWidgets": {},
     "nuid": "b789600e-a1b1-479b-a1da-36b74fdf1197",
     "showTitle": false,
     "title": ""
    }
   },
   "outputs": [],
   "source": [
    "@pandas_udf(\"score: int, label: string\")\n",
    "def perform_model_inference(s: pd.Series) -> pd.DataFrame:\n",
    "    predictions = loaded_model.predict(s.tolist())\n",
    "    return pd.DataFrame({\n",
    "        \"score\": predictions[\"score\"].map(lambda x: int(x * 100)).tolist(),\n",
    "        \"label\": predictions[\"label\"].tolist(),\n",
    "    })"
   ]
  },
  {
   "cell_type": "code",
   "execution_count": 0,
   "metadata": {
    "application/vnd.databricks.v1+cell": {
     "cellMetadata": {
      "byteLimit": 2048000,
      "rowLimit": 10000
     },
     "inputWidgets": {},
     "nuid": "e0ee6e5f-f624-4d58-ab02-5049edfbd7bc",
     "showTitle": false,
     "title": ""
    }
   },
   "outputs": [],
   "source": [
    "model_uri = f\"models:/{MODEL_NAME}/1\"\n",
    "loaded_model = mlflow.pyfunc.load_model(model_uri)"
   ]
  },
  {
   "cell_type": "code",
   "execution_count": 0,
   "metadata": {
    "application/vnd.databricks.v1+cell": {
     "cellMetadata": {
      "byteLimit": 2048000,
      "rowLimit": 10000
     },
     "inputWidgets": {},
     "nuid": "63f0cc63-fca3-4c49-8e94-32a8b692c4bc",
     "showTitle": false,
     "title": ""
    }
   },
   "outputs": [],
   "source": [
    "silver_df = spark.readStream.format(\"delta\").load(SILVER_DELTA)\n",
    "silver_df_1 = silver_df.limit(100)\n",
    "gold_df = (silver_df\n",
    "    .withColumn(\"sentiment_analysis\", perform_model_inference(col(\"cleaned_text\")))\n",
    "    .withColumn(\"predicted_score\", col(\"sentiment_analysis.score\"))  \n",
    "    .withColumn(\"predicted_sentiment\", col(\"sentiment_analysis.label\"))\n",
    "    .withColumn(\"sentiment_id\", when(col(\"sentiment\") == \"positive\", 1).otherwise(0))\n",
    "    .withColumn(\"predicted_sentiment_id\", when(col(\"predicted_sentiment\") == \"POS\", 1).otherwise(0))\n",
    "    .select(\n",
    "        \"timestamp\",\n",
    "        \"mention\",\n",
    "        \"cleaned_text\",\n",
    "        \"sentiment\",\n",
    "        \"predicted_score\",\n",
    "        \"predicted_sentiment\",\n",
    "        \"sentiment_id\",\n",
    "        \"predicted_sentiment_id\"\n",
    "    ))\n"
   ]
  },
  {
   "cell_type": "code",
   "execution_count": 0,
   "metadata": {
    "application/vnd.databricks.v1+cell": {
     "cellMetadata": {
      "byteLimit": 2048000,
      "rowLimit": 10000
     },
     "inputWidgets": {},
     "nuid": "5147dd66-2825-4a7a-8384-9a2b4bf3931e",
     "showTitle": false,
     "title": ""
    }
   },
   "outputs": [],
   "source": [
    "gold_stream = (\n",
    "    gold_df\n",
    "    .writeStream\n",
    "    .format(\"delta\")\n",
    "    .option(\"checkpointLocation\", GOLD_CHECKPOINT)\n",
    "    .outputMode(\"append\")\n",
    "    .queryName(\"gold_stream\")\n",
    "    .start(GOLD_DELTA)\n",
    ")"
   ]
  },
  {
   "cell_type": "code",
   "execution_count": 0,
   "metadata": {
    "application/vnd.databricks.v1+cell": {
     "cellMetadata": {
      "byteLimit": 2048000,
      "rowLimit": 10000
     },
     "inputWidgets": {},
     "nuid": "3609361c-4fe0-4dc7-bc62-6fbef24ca626",
     "showTitle": false,
     "title": ""
    }
   },
   "outputs": [],
   "source": [
    "# Initialize Spark Session\n",
    "spark = SparkSession.builder.appName(\"View Gold Data\").getOrCreate()\n",
    "\n",
    "# Define the path to the Gold Delta table\n",
    "gold_delta_path = \"dbfs:/tmp/labuser104917-3013268/gold.delta\"  # Adjust the path prefix as needed\n",
    "\n",
    "# Load the Gold Delta table\n",
    "gold_df = spark.read.format(\"delta\").load(gold_delta_path)\n",
    "\n",
    "# Show the first few rows of the DataFrame\n",
    "print(gold_df.head())\n",
    "\n",
    "# Print the schema to understand the data structure\n",
    "gold_df.printSchema()\n",
    "\n",
    "# Register the DataFrame as a temp view for SQL queries\n",
    "gold_df.createOrReplaceTempView(\"gold_data\")\n"
   ]
  },
  {
   "cell_type": "markdown",
   "metadata": {
    "application/vnd.databricks.v1+cell": {
     "cellMetadata": {
      "byteLimit": 2048000,
      "rowLimit": 10000
     },
     "inputWidgets": {},
     "nuid": "0494d8b4-5a55-47fc-af12-47325f34a303",
     "showTitle": false,
     "title": ""
    }
   },
   "source": [
    "## 7.0 Capture the accuracy metrics from the gold table in MLflow\n",
    "Store the following in an MLflow experiment run:\n",
    "- Store the precision, recall, and F1-score as MLflow metrics\n",
    "- Store an image of the confusion matrix as an MLflow artifact\n",
    "- Store the mdoel name and the MLflow version that was used as an MLflow parameters\n",
    "- Store the version of the Delta Table (input-silver) as an MLflow parameter"
   ]
  },
  {
   "cell_type": "code",
   "execution_count": 0,
   "metadata": {
    "application/vnd.databricks.v1+cell": {
     "cellMetadata": {
      "byteLimit": 2048000,
      "rowLimit": 10000
     },
     "inputWidgets": {},
     "nuid": "63488dea-7bb2-4479-bc89-473d8307c331",
     "showTitle": false,
     "title": ""
    }
   },
   "outputs": [],
   "source": [
    "# Load the gold data from the Delta table\n",
    "gold_data = spark.read.format(\"delta\").load(GOLD_DELTA)\n",
    "\n",
    "# Cast the necessary columns to DoubleType\n",
    "gold_data = gold_data.withColumn(\"sentiment_id\", col(\"sentiment_id\").cast(DoubleType()))\n",
    "gold_data = gold_data.withColumn(\"predicted_sentiment_id\", col(\"predicted_sentiment_id\").cast(DoubleType()))\n",
    "\n",
    "# Set up the evaluator\n",
    "evaluator = MulticlassClassificationEvaluator(\n",
    "    labelCol=\"sentiment_id\",\n",
    "    predictionCol=\"predicted_sentiment_id\"\n",
    ")\n",
    "\n",
    "# Evaluate the metrics\n",
    "accuracy = evaluator.setMetricName(\"accuracy\").evaluate(gold_data)\n",
    "precision = evaluator.setMetricName(\"weightedPrecision\").evaluate(gold_data)\n",
    "recall = evaluator.setMetricName(\"weightedRecall\").evaluate(gold_data)\n",
    "f1 = evaluator.setMetricName(\"f1\").evaluate(gold_data)\n",
    "\n",
    "# Output the metrics\n",
    "print(f\"Accuracy: {accuracy}\")\n",
    "print(f\"Precision: {precision}\")\n",
    "print(f\"Recall: {recall}\")\n",
    "print(f\"F1 Score: {f1}\")\n",
    "\n",
    "# Optionally, log metrics to MLflow\n",
    "with mlflow.start_run():\n",
    "    mlflow.log_metric(\"Accuracy\", accuracy)\n",
    "    mlflow.log_metric(\"Precision\", precision)\n",
    "    mlflow.log_metric(\"Recall\", recall)\n",
    "    mlflow.log_metric(\"F1 Score\", f1)\n",
    "    # Ensure MLflow tracking server or client is properly set up if using this in a real project\n"
   ]
  },
  {
   "cell_type": "code",
   "execution_count": 0,
   "metadata": {
    "application/vnd.databricks.v1+cell": {
     "cellMetadata": {
      "byteLimit": 2048000,
      "rowLimit": 10000
     },
     "inputWidgets": {},
     "nuid": "831a13a5-e13f-43af-8da8-ccdeaad342df",
     "showTitle": false,
     "title": ""
    }
   },
   "outputs": [],
   "source": [
    "\n",
    "# Create a confusion matrix\n",
    "confusion_matrix = gold_data.crosstab(\"predicted_sentiment_id\", \"sentiment_id\")\n",
    "\n",
    "# Convert to Pandas DataFrame for plotting\n",
    "confusion_matrix_pandas = confusion_matrix.toPandas()\n",
    "confusion_matrix_pandas.set_index('predicted_sentiment_id_sentiment_id', inplace=True)\n",
    "\n",
    "# Plot the confusion matrix\n",
    "plt.figure(figsize=(10, 8))\n",
    "sns.heatmap(confusion_matrix_pandas, annot=True, fmt=\"d\", cmap='Blues')\n",
    "plt.title('Confusion Matrix')\n",
    "plt.xlabel('Predicted Labels')\n",
    "plt.ylabel('Actual Labels')\n"
   ]
  },
  {
   "cell_type": "code",
   "execution_count": 0,
   "metadata": {
    "application/vnd.databricks.v1+cell": {
     "cellMetadata": {
      "byteLimit": 2048000,
      "rowLimit": 10000
     },
     "inputWidgets": {},
     "nuid": "b3cc517e-b955-4322-86e8-024f43fbee34",
     "showTitle": false,
     "title": ""
    }
   },
   "outputs": [],
   "source": [
    "# Save the plot\n",
    "confusion_matrix_path = '/dbfs/tmp/confusion_matrix.png'\n",
    "plt.savefig(confusion_matrix_path)\n",
    "plt.close()"
   ]
  },
  {
   "cell_type": "code",
   "execution_count": 0,
   "metadata": {
    "application/vnd.databricks.v1+cell": {
     "cellMetadata": {
      "byteLimit": 2048000,
      "rowLimit": 10000
     },
     "inputWidgets": {},
     "nuid": "5ca6408b-252d-41ea-9dbb-924ffeae44de",
     "showTitle": false,
     "title": ""
    }
   },
   "outputs": [],
   "source": [
    "# Log metrics and confusion matrix in MLflow\n",
    "with mlflow.start_run():\n",
    "    mlflow.log_metrics({'Accuracy': accuracy, 'Precision': precision, 'Recall': recall, 'F1 Score': f1})\n",
    "    mlflow.log_artifact(confusion_matrix_path, \"confusion_matrix.png\")\n",
    "\n",
    "    # Log model details\n",
    "    mlflow.log_param(\"Model Name\", MODEL_NAME)\n",
    "    mlflow.log_param(\"MLflow Version\", mlflow.__version__)\n",
    "\n",
    "    # Log the version of the input Silver Delta Table\n",
    "    delta_table = DeltaTable.forPath(spark, SILVER_DELTA)\n",
    "    delta_version = delta_table.history().select('version').orderBy(desc(\"timestamp\")).limit(1).collect()[0]['version']\n",
    "    mlflow.log_param(\"Delta Table Version\", str(delta_version))\n"
   ]
  },
  {
   "cell_type": "markdown",
   "metadata": {
    "application/vnd.databricks.v1+cell": {
     "cellMetadata": {
      "byteLimit": 2048000,
      "rowLimit": 10000
     },
     "inputWidgets": {},
     "nuid": "81e0e2de-b872-4698-81cc-1669646c2183",
     "showTitle": false,
     "title": ""
    }
   },
   "source": [
    "## 8.0 Application Data Processing and Visualization\n",
    "- How many mentions are there in the gold data total?\n",
    "- Count the number of neutral, positive and negative tweets for each mention in new columns\n",
    "- Capture the total for each mention in a new column\n",
    "- Sort the mention count totals in descending order\n",
    "- Plot a bar chart of the top 20 mentions with positive sentiment (the people who are in favor)\n",
    "- Plot a bar chart of the top 20 mentions with negative sentiment (the people who are the vilians)\n",
    "\n",
    "You may want to use the \"Loop Application\" widget to control whether you repeateded display the latest plots while the data comes in from your streams before moving on to the next section and cleaning up your run.\n",
    "\n",
    "*note: A mention is a specific twitter user that has been \"mentioned\" in a tweet with an @user reference."
   ]
  },
  {
   "cell_type": "code",
   "execution_count": 0,
   "metadata": {
    "application/vnd.databricks.v1+cell": {
     "cellMetadata": {
      "byteLimit": 2048000,
      "rowLimit": 10000
     },
     "inputWidgets": {},
     "nuid": "a6013f21-60fa-488e-aeef-dece7e1fe057",
     "showTitle": false,
     "title": ""
    }
   },
   "outputs": [],
   "source": [
    "num = gold_data.filter(gold_data['mention']==1).count()\n",
    "print(f\"Total number of mentions: {num}\")"
   ]
  },
  {
   "cell_type": "code",
   "execution_count": 0,
   "metadata": {
    "application/vnd.databricks.v1+cell": {
     "cellMetadata": {
      "byteLimit": 2048000,
      "rowLimit": 10000
     },
     "inputWidgets": {},
     "nuid": "f9a7da9f-3efa-45e8-ad3b-a02d3eb42ff8",
     "showTitle": false,
     "title": ""
    }
   },
   "outputs": [],
   "source": [
    "df = gold_data.withColumn('positive',when(col('sentiment') == 'positive',1).otherwise(0))\\\n",
    "    .withColumn('negative',when(col('sentiment') == 'negative',1).otherwise(0))\n",
    "\n",
    "result_df = df.groupBy(\"mention\")\\\n",
    "                       .agg(sum(\"positive\").alias(\"positive_count\"),\n",
    "                            sum(\"negative\").alias(\"negative_count\"),\n",
    "                            count(\"mention\").alias(\"total_mentions\"))\n",
    "                       \n",
    "result_df = result_df.orderBy(col(\"total_mentions\").desc())\n",
    "result_df.show()"
   ]
  },
  {
   "cell_type": "code",
   "execution_count": 0,
   "metadata": {
    "application/vnd.databricks.v1+cell": {
     "cellMetadata": {
      "byteLimit": 2048000,
      "rowLimit": 10000
     },
     "inputWidgets": {},
     "nuid": "8c03143d-5ced-451f-a5c9-da31988f23e6",
     "showTitle": false,
     "title": ""
    }
   },
   "outputs": [],
   "source": [
    "\n",
    "# Convert to Pandas DataFrame for plotting\n",
    "result_pd = result_df.toPandas()\n",
    "\n",
    "# Top 20 positive mentions\n",
    "top_positive = result_pd.nlargest(20, 'positive_count')\n",
    "plt.figure(figsize=(10, 8))\n",
    "top_positive.plot.bar(x='mention', y='positive_count', color='green')\n",
    "plt.title('Top 20 Mentions with Positive Sentiment')\n",
    "plt.xlabel('Mention')\n",
    "plt.ylabel('Positive Count')\n",
    "plt.show()\n",
    "\n",
    "# Top 20 negative mentions\n",
    "top_negative = result_pd.nlargest(20, 'negative_count')\n",
    "plt.figure(figsize=(10, 8))\n",
    "top_negative.plot.bar(x='mention', y='negative_count', color='red')\n",
    "plt.title('Top 20 Mentions with Negative Sentiment')\n",
    "plt.xlabel('Mention')\n",
    "plt.ylabel('Negative Count')\n",
    "plt.show()\n",
    "     "
   ]
  },
  {
   "cell_type": "markdown",
   "metadata": {
    "application/vnd.databricks.v1+cell": {
     "cellMetadata": {
      "byteLimit": 2048000,
      "rowLimit": 10000
     },
     "inputWidgets": {},
     "nuid": "5d5add3f-0c13-4d81-86d8-12cf3cfdd2c8",
     "showTitle": false,
     "title": ""
    }
   },
   "source": [
    "## 9.0 Clean up and completion of your pipeline\n",
    "- using the utilities what streams are running? If any.\n",
    "- Stop all active streams\n",
    "- print out the elapsed time of your notebook."
   ]
  },
  {
   "cell_type": "code",
   "execution_count": 0,
   "metadata": {
    "application/vnd.databricks.v1+cell": {
     "cellMetadata": {
      "byteLimit": 2048000,
      "rowLimit": 10000
     },
     "inputWidgets": {},
     "nuid": "0304e685-c26e-447d-b230-c37266f30003",
     "showTitle": false,
     "title": ""
    }
   },
   "outputs": [],
   "source": [
    "# Get all active streams\n",
    "active_streams = spark.streams.active\n",
    "\n",
    "# Check if any streams are running\n",
    "if len(active_streams) > 0:\n",
    "    print(\"There are active streams running:\")\n",
    "    for stream in active_streams:\n",
    "        print(stream.name)\n",
    "else:\n",
    "    print(\"No active streams running\")"
   ]
  },
  {
   "cell_type": "code",
   "execution_count": 0,
   "metadata": {
    "application/vnd.databricks.v1+cell": {
     "cellMetadata": {
      "byteLimit": 2048000,
      "rowLimit": 10000
     },
     "inputWidgets": {},
     "nuid": "befb6d48-d4c9-4b93-a72d-30f1e223f8eb",
     "showTitle": false,
     "title": ""
    }
   },
   "outputs": [],
   "source": [
    "stop_all_streams()"
   ]
  },
  {
   "cell_type": "code",
   "execution_count": 0,
   "metadata": {
    "application/vnd.databricks.v1+cell": {
     "cellMetadata": {
      "byteLimit": 2048000,
      "rowLimit": 10000
     },
     "inputWidgets": {},
     "nuid": "ea759fc8-1d78-4d6d-b571-e2e256448b76",
     "showTitle": false,
     "title": ""
    }
   },
   "outputs": [],
   "source": [
    "\n",
    "END_TIME = time.time()\n",
    "TOTAL_TIME = END_TIME - START_TIME\n",
    "TOTAL_TIME_MINUTES = TOTAL_TIME / 60  # Convert seconds to minutes\n",
    "\n",
    "print(f'It took {TOTAL_TIME_MINUTES:.2f} minutes to run all the notebook.')\n"
   ]
  },
  {
   "cell_type": "markdown",
   "metadata": {
    "application/vnd.databricks.v1+cell": {
     "cellMetadata": {
      "byteLimit": 2048000,
      "rowLimit": 10000
     },
     "inputWidgets": {},
     "nuid": "b88fc0e5-f50c-4ed1-9480-16a4c8a44b30",
     "showTitle": false,
     "title": ""
    }
   },
   "source": [
    "## 10.0 How Optimized is your Spark Application (Grad Students Only)\n",
    "Graduate students (registered for the DSCC-402 section of the course) are required to do this section.  This is a written analysis using the Spark UI (link to screen shots) that support your analysis of your pipelines execution and what is driving its performance.\n",
    "Recall that Spark Optimization has 5 significant dimensions of considertation:\n",
    "- Spill: write to executor disk due to lack of memory\n",
    "- Skew: imbalance in partition size\n",
    "- Shuffle: network io moving data between executors (wide transforms)\n",
    "- Storage: inefficiency due to disk storage format (small files, location)\n",
    "- Serialization: distribution of code segments across the cluster\n",
    "\n",
    "Comment on each of the dimentions of performance and how your impelementation is or is not being affected.  Use specific information in the Spark UI to support your description.  \n",
    "\n",
    "Note: you can take sreenshots of the Spark UI from your project runs in databricks and then link to those pictures by storing them as a publicly accessible file on your cloud drive (google, one drive, etc.)\n",
    "\n",
    "References:\n",
    "- [Spark UI Reference Reference](https://spark.apache.org/docs/latest/web-ui.html#web-ui)\n",
    "- [Spark UI Simulator](https://www.databricks.training/spark-ui-simulator/index.html)"
   ]
  },
  {
   "cell_type": "markdown",
   "metadata": {
    "application/vnd.databricks.v1+cell": {
     "cellMetadata": {
      "byteLimit": 2048000,
      "rowLimit": 10000
     },
     "inputWidgets": {},
     "nuid": "a0a5707d-a5ca-4e87-9e74-3b13d00337b0",
     "showTitle": false,
     "title": ""
    }
   },
   "source": [
    "During my project\n",
    "- Spill: It happens when there's insufficient memory (RAM), leading the worker to store data on the disk (ROM). Instances of spill are noted in stage details as Spill(Memory) and Spill(Disk). These columns don't show up if there aren't any spills. At the question 1, I set spark.sql.shuffle.partitions to be 8, as a result, my notebook doesn’t have any spill related issues.\n",
    "\n",
    "https://drive.google.com/file/d/1IurENoYcgvKd1WDvPu_SXs7xY79-yEmm/view?usp=drive_link\n",
    "\n",
    "https://drive.google.com/file/d/1DmW1Zd_jDHMJ89X7l1uTYoYekv6AXE27/view?usp=drive_link\n",
    "\n",
    "https://drive.google.com/file/d/1KUDuICLDJUAy4butV3wmYUQinGThyu0Z/view?usp=drive_link\n",
    "\n",
    "- Skew: Due to imbalance in partition size. Large variations in task durations and the size of the data processed per task. If certain tasks take much longer than others or process much more or much less data, this indicates skew. In my notebook, there is no skew in there.\n",
    "\n",
    "https://drive.google.com/file/d/18HqEhHPZmkdA33kVwbw6wPa5ZTxcVJfg/view?usp=drive_link\n",
    "\n",
    "https://drive.google.com/file/d/1sn1PwE7P9SMN-b4k5F7jwJWFbuV5q7nC/view?usp=drive_link\n",
    "\n",
    "- Shuffle: No significant shuffle problems appear to be evident in the my notebook. Most of the tasks have relatively small shuffle write sizes (many are in the range of 142.0 B to 2.9 KiB). These small amounts indicate that the shuffle operation is not moving a lot of data, which is typically a good sign in terms of performance.\n",
    "\n",
    "https://drive.google.com/file/d/1IurENoYcgvKd1WDvPu_SXs7xY79-yEmm/view?usp=drive_link\n",
    "\n",
    "- Storage: In my notebook,there does not appear to be a significant storage problem concerning disk space or performance based on disk and cache metrics. 29.4 MiB is a very small amount of disk usage relative to the total disk capacity (463.9 GiB), which suggests there is no issue with disk space consumption.\n",
    "\n",
    "https://drive.google.com/file/d/1s75R1pk6m2Q1EZsdYzt5R8e7M8RIzvlW/view?usp=drive_link\n",
    "\n",
    "- Serialization: During my project seralization issue happens in gold stream step where I'm using a pandas udf to perform sentiment analysis. This function can't be optimized by Spark's engine, the serialization takes a long time. Before that i used standard udf,it didn't work A. However, panda udf is still better than using a standard udf function which doesn't utilize vectorization provided by pandas and Apache Arrow.\n",
    "\n",
    "https://drive.google.com/file/d/1soqSk3vPLxXe3eEUIEzAr84o0SouHGnF/view?usp=drive_link\n"
   ]
  }
 ],
 "metadata": {
  "application/vnd.databricks.v1+notebook": {
   "dashboards": [],
   "language": "python",
   "notebookMetadata": {
    "mostRecentlyExecutedCommandWithImplicitDF": {
     "commandId": 1181270846489477,
     "dataframes": [
      "_sqldf"
     ]
    },
    "pythonIndentUnit": 4,
    "widgetLayout": [
     {
      "breakBefore": false,
      "name": "clear_previous_run",
      "width": 203
     },
     {
      "breakBefore": false,
      "name": "stop_streams",
      "width": 203
     }
    ]
   },
   "notebookName": "Starter Streaming Tweet Sentiment - Spring 2024 Final Project",
   "widgets": {
    "clear_previous_run": {
     "currentValue": "No",
     "nuid": "11b43403-c70f-41ef-ab0e-41172583baaa",
     "typedWidgetInfo": null,
     "widgetInfo": {
      "widgetType": "dropdown",
      "defaultValue": "No",
      "label": null,
      "name": "clear_previous_run",
      "options": {
       "widgetType": "dropdown",
       "autoCreated": null,
       "choices": [
        "No",
        "Yes"
       ]
      }
     }
    },
    "optimize_tables": {
     "currentValue": "No",
     "nuid": "d27f2950-3146-4010-8bc6-58c47a93e7a9",
     "typedWidgetInfo": null,
     "widgetInfo": {
      "widgetType": "dropdown",
      "defaultValue": "No",
      "label": null,
      "name": "optimize_tables",
      "options": {
       "widgetType": "dropdown",
       "autoCreated": null,
       "choices": [
        "No",
        "Yes"
       ]
      }
     }
    },
    "stop_streams": {
     "currentValue": "No",
     "nuid": "d70a2190-266e-473c-86a7-84f7bf56b386",
     "typedWidgetInfo": null,
     "widgetInfo": {
      "widgetType": "dropdown",
      "defaultValue": "No",
      "label": null,
      "name": "stop_streams",
      "options": {
       "widgetType": "dropdown",
       "autoCreated": null,
       "choices": [
        "No",
        "Yes"
       ]
      }
     }
    }
   }
  }
 },
 "nbformat": 4,
 "nbformat_minor": 0
}
